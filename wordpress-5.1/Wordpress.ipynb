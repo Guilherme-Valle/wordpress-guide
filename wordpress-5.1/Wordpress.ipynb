{
 "cells": [
  {
   "cell_type": "markdown",
   "metadata": {},
   "source": [
    "## How to install Wordpress"
   ]
  },
  {
   "cell_type": "code",
   "execution_count": null,
   "metadata": {},
   "outputs": [],
   "source": [
    "from guide_automator_function import *\n",
    "\n",
    "get(\"localhost:8080/\")\n",
    "highlight('#language-continue')\n",
    "takeScreenshot()\n"
   ]
  },
  {
   "cell_type": "markdown",
   "metadata": {},
   "source": [
    "## Select your language, and click on the continue button"
   ]
  },
  {
   "cell_type": "code",
   "execution_count": null,
   "metadata": {},
   "outputs": [],
   "source": [
    "click('#language-continue')\n",
    "fillIn('#weblog_title', 'Ubuntu Blog Wordpress')\n",
    "clearInput('#user_login')\n",
    "fillIn('#user_login', 'Admin')\n",
    "clearInput('#pass1-text')\n",
    "fillIn('#pass1-text', 'kaokaokao!1010')\n",
    "fillIn('#admin_email', 'guidovalle1608@gmail.com')\n",
    "takeScreenshot()"
   ]
  },
  {
   "cell_type": "markdown",
   "metadata": {},
   "source": [
    "## Fill in the fields"
   ]
  },
  {
   "cell_type": "code",
   "execution_count": null,
   "metadata": {},
   "outputs": [],
   "source": [
    "click('#submit')\n",
    "takeScreenshot()"
   ]
  },
  {
   "cell_type": "markdown",
   "metadata": {},
   "source": [
    "## Congratulations, you have installed Wordpress!"
   ]
  },
  {
   "cell_type": "markdown",
   "metadata": {},
   "source": [
    "## Now, click on Log In!"
   ]
  },
  {
   "cell_type": "code",
   "execution_count": null,
   "metadata": {},
   "outputs": [],
   "source": [
    "click('.button')\n",
    "fillIn('#user_login', 'Admin')\n",
    "fillIn('#user_pass', 'kaokaokao!1010')\n",
    "highlight('#wp-submit')\n",
    "takeScreenshot()\n",
    "click('#wp-submit')\n"
   ]
  },
  {
   "cell_type": "code",
   "execution_count": null,
   "metadata": {},
   "outputs": [],
   "source": [
    "highlight('#wp-admin-bar-new-content')\n",
    "takeScreenshot()"
   ]
  },
  {
   "cell_type": "markdown",
   "metadata": {},
   "source": [
    "## It's your admin panel! Click on 'new' to create your first postage!"
   ]
  },
  {
   "cell_type": "code",
   "execution_count": null,
   "metadata": {},
   "outputs": [],
   "source": [
    "click('#wp-admin-bar-new-content')\n",
    "takeScreenshot()"
   ]
  },
  {
   "cell_type": "markdown",
   "metadata": {},
   "source": [
    "## Now, insert your title and click on publish!"
   ]
  },
  {
   "cell_type": "code",
   "execution_count": null,
   "metadata": {},
   "outputs": [],
   "source": [
    "fillIn('#post-title-0', 'My first post!')\n",
    "highlight('#editor > div > div > div > div.edit-post-header > div.edit-post-header__settings > button.components-button.editor-post-publish-panel__toggle.is-button.is-primary')\n",
    "takeScreenshot()\n",
    "click('#editor > div > div > div > div.edit-post-header > div.edit-post-header__settings > button.components-button.editor-post-publish-panel__toggle.is-button.is-primary')\n",
    "click('#editor > div > div > div > div:nth-child(3) > div > div > div.editor-post-publish-panel__header > div > button')"
   ]
  },
  {
   "cell_type": "markdown",
   "metadata": {},
   "source": [
    "## Now, you can see your post!"
   ]
  },
  {
   "cell_type": "code",
   "execution_count": null,
   "metadata": {},
   "outputs": [],
   "source": [
    "takeScreenshot()\n",
    "clickOnCoveredElement('#editor > div > div > div > div.edit-post-layout__content > div.components-notice-list > div > div > a')"
   ]
  },
  {
   "cell_type": "markdown",
   "metadata": {},
   "source": [
    "## Here, your first post! Now, leave a comment"
   ]
  },
  {
   "cell_type": "code",
   "execution_count": null,
   "metadata": {},
   "outputs": [],
   "source": [
    "highlight('#comment')\n",
    "takeScreenshot()\n",
    "fillIn('#comment', 'Amazing post!')"
   ]
  },
  {
   "cell_type": "markdown",
   "metadata": {},
   "source": [
    "## Tip your comment, and post!"
   ]
  },
  {
   "cell_type": "code",
   "execution_count": null,
   "metadata": {},
   "outputs": [],
   "source": [
    "takeScreenshot()\n",
    "clickOnCoveredElement('#submit')\n"
   ]
  },
  {
   "cell_type": "markdown",
   "metadata": {},
   "source": [
    "## Now, your comment!"
   ]
  },
  {
   "cell_type": "code",
   "execution_count": null,
   "metadata": {},
   "outputs": [],
   "source": [
    "takeScreenshot()"
   ]
  },
  {
   "cell_type": "markdown",
   "metadata": {},
   "source": [
    "## Now, lets delete your comment! First, click on edit."
   ]
  },
  {
   "cell_type": "code",
   "execution_count": null,
   "metadata": {},
   "outputs": [],
   "source": [
    "highlight('.comment-edit-link')\n",
    "takeScreenshot()\n",
    "click('.comment-edit-link')\n"
   ]
  },
  {
   "cell_type": "markdown",
   "metadata": {},
   "source": [
    "## Now, click on 'move to Thrash'"
   ]
  },
  {
   "cell_type": "code",
   "execution_count": null,
   "metadata": {},
   "outputs": [],
   "source": [
    "highlight('.submitdelete')\n",
    "takeScreenshot()\n",
    "click('.submitdelete')\n"
   ]
  },
  {
   "cell_type": "markdown",
   "metadata": {},
   "source": [
    "## Now, return to the main page. Let's add a new page!"
   ]
  },
  {
   "cell_type": "code",
   "execution_count": null,
   "metadata": {},
   "outputs": [],
   "source": [
    "highlight('#wp-admin-bar-site-name > a:nth-child(1)')\n",
    "takeScreenshot()\n",
    "click('#wp-admin-bar-site-name > a:nth-child(1)')\n"
   ]
  },
  {
   "cell_type": "markdown",
   "metadata": {},
   "source": [
    "## Click on 'Pages'"
   ]
  },
  {
   "cell_type": "code",
   "execution_count": null,
   "metadata": {},
   "outputs": [],
   "source": [
    "highlight('a.menu-icon-page > div:nth-child(3)')\n",
    "takeScreenshot()\n",
    "click('a.menu-icon-page > div:nth-child(3)')"
   ]
  },
  {
   "cell_type": "markdown",
   "metadata": {},
   "source": [
    "## Click on 'Add New'"
   ]
  },
  {
   "cell_type": "code",
   "execution_count": null,
   "metadata": {},
   "outputs": [],
   "source": [
    "highlight('.page-title-action')\n",
    "takeScreenshot()\n",
    "click('.page-title-action')"
   ]
  },
  {
   "cell_type": "markdown",
   "metadata": {},
   "source": [
    "## Fill the title of your page!"
   ]
  },
  {
   "cell_type": "code",
   "execution_count": null,
   "metadata": {},
   "outputs": [],
   "source": [
    "fillIn('#post-title-0', 'New page')\n",
    "takeScreenshot()"
   ]
  },
  {
   "cell_type": "markdown",
   "metadata": {},
   "source": [
    "## Click on 'publish'"
   ]
  },
  {
   "cell_type": "code",
   "execution_count": null,
   "metadata": {},
   "outputs": [],
   "source": [
    "click('#editor > div > div > div > div.edit-post-header > div.edit-post-header__settings > button.components-button.editor-post-publish-panel__toggle.is-button.is-primary')\n",
    "sleep(1)\n",
    "click('#editor > div > div > div > div:nth-child(3) > div > div > div.editor-post-publish-panel__header > div > button')"
   ]
  },
  {
   "cell_type": "markdown",
   "metadata": {},
   "source": [
    "## Click on 'view page' to view your page!"
   ]
  },
  {
   "cell_type": "code",
   "execution_count": null,
   "metadata": {},
   "outputs": [],
   "source": [
    "takeScreenshot()\n",
    "clickOnCoveredElement('#editor > div > div > div > div.edit-post-layout__content > div.components-notice-list > div > div > a')"
   ]
  },
  {
   "cell_type": "markdown",
   "metadata": {},
   "source": [
    "## Here, your new page! Now, let's change the title of your site! Return to the main page."
   ]
  },
  {
   "cell_type": "code",
   "execution_count": null,
   "metadata": {},
   "outputs": [],
   "source": [
    "highlight('#wp-admin-bar-site-name > a:nth-child(1)')\n",
    "takeScreenshot()\n",
    "click('#wp-admin-bar-site-name > a:nth-child(1)')\n"
   ]
  },
  {
   "cell_type": "markdown",
   "metadata": {},
   "source": [
    "## Click on 'settings'!"
   ]
  },
  {
   "cell_type": "code",
   "execution_count": null,
   "metadata": {},
   "outputs": [],
   "source": [
    "highlight('a.menu-icon-settings > div:nth-child(3)')\n",
    "takeScreenshot()\n",
    "click('a.menu-icon-settings > div:nth-child(3)')"
   ]
  },
  {
   "cell_type": "markdown",
   "metadata": {},
   "source": [
    "## Now, change the title!"
   ]
  },
  {
   "cell_type": "code",
   "execution_count": null,
   "metadata": {},
   "outputs": [],
   "source": [
    "highlight('#blogname')\n",
    "fillIn('#blogname', ' new name!')\n",
    "takeScreenshot()"
   ]
  },
  {
   "cell_type": "markdown",
   "metadata": {},
   "source": [
    "## Click on 'Save changes'!"
   ]
  },
  {
   "cell_type": "code",
   "execution_count": null,
   "metadata": {},
   "outputs": [],
   "source": [
    "highlight('#submit')\n",
    "takeScreenshot()\n",
    "click('#submit')"
   ]
  },
  {
   "cell_type": "markdown",
   "metadata": {},
   "source": [
    "## Now, your site had a new name!"
   ]
  },
  {
   "cell_type": "code",
   "execution_count": null,
   "metadata": {},
   "outputs": [],
   "source": [
    "takeScreenshot()\n",
    "close()"
   ]
  }
 ],
 "metadata": {
  "kernelspec": {
   "display_name": "Python 3",
   "language": "python",
   "name": "python3"
  },
  "language_info": {
   "codemirror_mode": {
    "name": "ipython",
    "version": 3
   },
   "file_extension": ".py",
   "mimetype": "text/x-python",
   "name": "python",
   "nbconvert_exporter": "python",
   "pygments_lexer": "ipython3",
   "version": "3.5.2"
  }
 },
 "nbformat": 4,
 "nbformat_minor": 2
}
